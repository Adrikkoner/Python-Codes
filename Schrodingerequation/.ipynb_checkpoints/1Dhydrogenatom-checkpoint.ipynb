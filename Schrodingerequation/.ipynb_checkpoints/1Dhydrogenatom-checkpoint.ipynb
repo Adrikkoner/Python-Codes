{
 "cells": [
  {
   "cell_type": "code",
   "execution_count": 17,
   "id": "bd6b7242",
   "metadata": {},
   "outputs": [],
   "source": [
    "import numpy as np\n",
    "from scipy import constants as const\n",
    "from scipy import sparse as sparse\n",
    "from scipy.sparse.linalg import eigs\n",
    "from matplotlib import pyplot as plt\n",
    "%matplotlib inline"
   ]
  },
  {
   "cell_type": "markdown",
   "id": "3739f797",
   "metadata": {},
   "source": [
    "Solve the s-wave Schrodinger equation for the ground state and the first excited state of the hydrogen atom:\n",
    "\n",
    "$$\n",
    "\\frac{d^2y}{dx^2}=A(r)u(r),A(r) = \\frac{2m}{\\hbar^2}[V(r)-E]\n",
    "$$\n",
    "where, \n",
    "$$\n",
    "V(r)=-\\frac{e^2}{r}\n",
    "$$\n",
    "Here, m is the reduced mass of the electron. Obtain the energy eigenvalues and plot the corresponding wavefunction. Remember that the ground state energy of the hydrogen atom is $\\approx -13.6 eV$.\n",
    "Take $ e =3.795(eV \\AA)^{1/2}, \\hbar c=1973(eV \\AA)$ \n",
    "and $m=0.511\\times10^6 eV/c^2  $"
   ]
  },
  {
   "cell_type": "markdown",
   "id": "5c2d928c",
   "metadata": {},
   "source": [
    "## The constants"
   ]
  },
  {
   "cell_type": "code",
   "execution_count": 19,
   "id": "089d3dfd",
   "metadata": {},
   "outputs": [],
   "source": [
    "hbar = const.hbar\n",
    "e = const.e\n",
    "m_e = const.m_e\n",
    "pi = const.pi\n",
    "epsilon_0 = const.epsilon_0\n",
    "joul_to_eV = e"
   ]
  },
  {
   "cell_type": "markdown",
   "id": "32bfe959",
   "metadata": {},
   "source": [
    "## Calculating the potential term"
   ]
  },
  {
   "cell_type": "code",
   "execution_count": 20,
   "id": "7afd34a7",
   "metadata": {},
   "outputs": [],
   "source": [
    "def calculate_potential_term(r):\n",
    "    potential = e**2 / (4.0 * pi * epsilon_0) / r\n",
    "    potential_term = sparse.diags((potential))\n",
    "    return potential_term"
   ]
  },
  {
   "cell_type": "markdown",
   "id": "39017a49",
   "metadata": {},
   "source": [
    "## Calculating the angular term"
   ]
  },
  {
   "cell_type": "code",
   "execution_count": 21,
   "id": "95aedbf3",
   "metadata": {},
   "outputs": [],
   "source": [
    "def calculate_angular_term(r):\n",
    "    angular = l * (l + 1) / r**2\n",
    "    angular_term = sparse.diags((angular))\n",
    "    return angular_term"
   ]
  },
  {
   "cell_type": "markdown",
   "id": "fe961a61",
   "metadata": {},
   "source": [
    "## Calculating the Laplace three points term "
   ]
  },
  {
   "cell_type": "code",
   "execution_count": 22,
   "id": "469d3121",
   "metadata": {},
   "outputs": [],
   "source": [
    "def calculate_laplace_three_point(r):\n",
    "    h = r[1] - r[0]\n",
    "     \n",
    "    main_diag = -2.0 / h**2 * np.ones(N)     \n",
    "    off_diag  =  1.0 / h**2 * np.ones(N - 1)\n",
    "    laplace_term = sparse.diags([main_diag, off_diag, off_diag], (0, -1, 1))\n",
    "    return laplace_term"
   ]
  },
  {
   "cell_type": "markdown",
   "id": "2fef035b",
   "metadata": {},
   "source": [
    "## Building the Hamiltonian"
   ]
  },
  {
   "cell_type": "code",
   "execution_count": 23,
   "id": "8b98b4c3",
   "metadata": {},
   "outputs": [],
   "source": [
    "def build_hamiltonian(r):\n",
    "    laplace_term =   calculate_laplace_three_point(r)\n",
    "    angular_term =   calculate_angular_term(r)\n",
    "    potential_term = calculate_potential_term(r)\n",
    "     \n",
    "    hamiltonian = -hbar**2 / (2.0 * m_e) * (laplace_term - angular_term) - potential_term\n",
    " \n",
    "    return hamiltonian"
   ]
  },
  {
   "cell_type": "markdown",
   "id": "2ef13de2",
   "metadata": {},
   "source": [
    "## Plotting function"
   ]
  },
  {
   "cell_type": "code",
   "execution_count": 39,
   "id": "5cec622a",
   "metadata": {},
   "outputs": [],
   "source": [
    "def plot(r, densities, eigenvalues):\n",
    "    plt.xlabel('x ($\\\\mathrm{\\AA}$)')\n",
    "    plt.ylabel('probability density ($\\\\mathrm{\\AA}^{-1}$)')\n",
    "     \n",
    "    energies = ['E = {: >5.2f} eV'.format(eigenvalues[i].real / e) for i in range(10)]\n",
    "    plt.plot(r * 1e+10, densities[0], color='blue',  label=energies[0])\n",
    "    plt.plot(r * 1e+10, densities[1], color='green', label=energies[1])\n",
    "    plt.plot(r * 1e+10, densities[2], color='red',   label=energies[2])\n",
    "    plt.plot(r * 1e+10, densities[3], color='orange',   label=energies[3])\n",
    "    plt.plot(r * 1e+10, densities[4], color='black',   label=energies[4])\n",
    "     \n",
    "    plt.legend()\n",
    "    plt.show()\n",
    "    return"
   ]
  },
  {
   "cell_type": "markdown",
   "id": "370711db",
   "metadata": {},
   "source": [
    "## set up horizontal axis and hamiltonian"
   ]
  },
  {
   "cell_type": "code",
   "execution_count": 33,
   "id": "6ff6a18a",
   "metadata": {},
   "outputs": [],
   "source": [
    "N = 5000\n",
    "l = 0\n",
    "r = np.linspace(2e-9, 0.0, N, endpoint=False)\n",
    "hamiltonian = build_hamiltonian(r)"
   ]
  },
  {
   "cell_type": "markdown",
   "id": "52e093cf",
   "metadata": {},
   "source": [
    "## Solve eigenvalue problem"
   ]
  },
  {
   "cell_type": "code",
   "execution_count": 34,
   "id": "a7a5d44f",
   "metadata": {},
   "outputs": [
    {
     "data": {
      "text/plain": [
       "array([-5.44967604e-19+0.j, -2.17986458e-18+0.j, -2.42191127e-19+0.j,\n",
       "       -1.31064243e-19+0.j, -3.48680781e-20+0.j,  9.82338318e-20+0.j,\n",
       "        2.68155641e-19+0.j,  4.72629160e-19+0.j,  7.10396602e-19+0.j,\n",
       "        9.80682303e-19+0.j,  1.28296493e-18+0.j,  1.61687335e-18+0.j,\n",
       "        1.98213275e-18+0.j,  2.37853378e-18+0.j,  2.80591358e-18+0.j,\n",
       "        3.26414325e-18+0.j,  3.75311935e-18+0.j,  4.27275787e-18+0.j,\n",
       "        4.82298980e-18+0.j,  5.40375795e-18+0.j,  6.01501448e-18+0.j,\n",
       "        6.65671901e-18+0.j,  7.32883725e-18+0.j,  8.03133985e-18+0.j,\n",
       "        8.76420148e-18+0.j,  9.52740023e-18+0.j,  1.03209169e-17+0.j,\n",
       "        1.11447348e-17+0.j,  1.19988391e-17+0.j,  1.28832166e-17+0.j])"
      ]
     },
     "execution_count": 34,
     "metadata": {},
     "output_type": "execute_result"
    }
   ],
   "source": [
    "number_of_eigenvalues = 30\n",
    "eigenvalues, eigenvectors = eigs(hamiltonian, k=number_of_eigenvalues, which='SM')\n",
    "eigenvalues"
   ]
  },
  {
   "cell_type": "markdown",
   "id": "b8fbb1cc",
   "metadata": {},
   "source": [
    "## Sort eigenvalue and eigenvectors"
   ]
  },
  {
   "cell_type": "code",
   "execution_count": 35,
   "id": "9c63e65a",
   "metadata": {},
   "outputs": [],
   "source": [
    "eigenvectors = np.array([x for _, x in sorted(zip(eigenvalues, eigenvectors.T), key=lambda pair: pair[0])])\n",
    "eigenvalues = np.sort(eigenvalues)"
   ]
  },
  {
   "cell_type": "markdown",
   "id": "5835d3a8",
   "metadata": {},
   "source": [
    "## Compute probability density for each eigenvector"
   ]
  },
  {
   "cell_type": "code",
   "execution_count": 37,
   "id": "af6d9be0",
   "metadata": {},
   "outputs": [],
   "source": [
    "densities = [np.absolute(eigenvectors[i, :])**2 for i in range(len(eigenvalues))]"
   ]
  },
  {
   "cell_type": "markdown",
   "id": "80bb5f5e",
   "metadata": {},
   "source": [
    "## Plot results"
   ]
  },
  {
   "cell_type": "code",
   "execution_count": 40,
   "id": "3c8aa6ff",
   "metadata": {},
   "outputs": [
    {
     "data": {
      "image/png": "[encoded data removed]",
      "text/plain": [
       "<Figure size 432x288 with 1 Axes>"
      ]
     },
     "metadata": {
      "needs_background": "light"
     },
     "output_type": "display_data"
    }
   ],
   "source": [
    "plot(r, densities, eigenvalues)"
   ]
  }
 ],
 "metadata": {
  "interpreter": {
   "hash": "965397c5e0a383645281018943dbc1bc4d4522af0dbc1ebbaeff6f5a6e63d7b4"
  },
  "kernelspec": {
   "display_name": "Python 3",
   "language": "python",
   "name": "python3"
  },
  "language_info": {
   "codemirror_mode": {
    "name": "ipython",
    "version": 3
   },
   "file_extension": ".py",
   "mimetype": "text/x-python",
   "name": "python",
   "nbconvert_exporter": "python",
   "pygments_lexer": "ipython3",
   "version": "3.8.10"
  }
 },
 "nbformat": 4,
 "nbformat_minor": 5
}
