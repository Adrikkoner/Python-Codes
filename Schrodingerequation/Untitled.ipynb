{
 "cells": [
  {
   "cell_type": "code",
   "execution_count": 1,
   "source": [
    "import numpy as np\r\n",
    "from scipy import constants as const\r\n",
    "from scipy import sparse as sparse\r\n",
    "from scipy.sparse.linalg import eigs\r\n",
    "from matplotlib import pyplot as plt"
   ],
   "outputs": [],
   "metadata": {}
  },
  {
   "cell_type": "code",
   "execution_count": null,
   "source": [
    "hbar = const.hbar\r\n",
    "e = const.e\r\n",
    "m_e = const.m_e\r\n",
    "pi = const.pi\r\n",
    "epsilon_0 = const.epsilon_0\r\n",
    "joul_to_eV = e"
   ],
   "outputs": [],
   "metadata": {}
  },
  {
   "cell_type": "code",
   "execution_count": null,
   "source": [
    "def calculate_potential_term(r):\r\n",
    "    potential = e**2 / (4.0 * pi * epsilon_0) / r\r\n",
    "    potential_term = sparse.diags((potential))\r\n",
    "    return potential_term"
   ],
   "outputs": [],
   "metadata": {}
  },
  {
   "cell_type": "code",
   "execution_count": null,
   "source": [
    "def calculate_angular_term(r):\r\n",
    "    angular = l * (l + 1) / r**2\r\n",
    "    angular_term = sparse.diags((angular))\r\n",
    "    return angular_term"
   ],
   "outputs": [],
   "metadata": {}
  },
  {
   "cell_type": "code",
   "execution_count": null,
   "source": [
    "def calculate_laplace_three_point(r):\r\n",
    "    h = r[1] - r[0]\r\n",
    "     \r\n",
    "    main_diag = -2.0 / h**2 * np.ones(N)     \r\n",
    "    off_diag  =  1.0 / h**2 * np.ones(N - 1)\r\n",
    "    laplace_term = sparse.diags([main_diag, off_diag, off_diag], (0, -1, 1))\r\n",
    "    return laplace_term"
   ],
   "outputs": [],
   "metadata": {}
  },
  {
   "cell_type": "code",
   "execution_count": null,
   "source": [
    "def build_hamiltonian(r):\r\n",
    "    laplace_term =   calculate_laplace_three_point(r)\r\n",
    "    angular_term =   calculate_angular_term(r)\r\n",
    "    potential_term = calculate_potential_term(r)\r\n",
    "     \r\n",
    "    hamiltonian = -hbar**2 / (2.0 * m_e) * (laplace_term - angular_term) - potential_term\r\n",
    " \r\n",
    "    return hamiltonian"
   ],
   "outputs": [],
   "metadata": {}
  },
  {
   "cell_type": "code",
   "execution_count": null,
   "source": [
    "def plot(r, densities, eigenvalues):\r\n",
    "    plt.xlabel('x ($\\\\mathrm{\\AA}$)')\r\n",
    "    plt.ylabel('probability density ($\\\\mathrm{\\AA}^{-1}$)')\r\n",
    "     \r\n",
    "    energies = ['E = {: >5.2f} eV'.format(eigenvalues[i].real / e) for i in range(10)]\r\n",
    "    plt.plot(r * 1e+10, densities[0], color='blue',  label=energies[0])\r\n",
    "    plt.plot(r * 1e+10, densities[1], color='green', label=energies[1])\r\n",
    "    plt.plot(r * 1e+10, densities[2], color='red',   label=energies[2])\r\n",
    "    plt.plot(r * 1e+10, densities[3], color='orange',   label=energies[3])\r\n",
    "    plt.plot(r * 1e+10, densities[4], color='black',   label=energies[4])\r\n",
    "     \r\n",
    "    plt.legend()\r\n",
    "    plt.show()\r\n",
    "    return"
   ],
   "outputs": [],
   "metadata": {}
  },
  {
   "cell_type": "code",
   "execution_count": null,
   "source": [
    "\"\"\" set up horizontal axis and hamiltonian \"\"\"\r\n",
    "N = 2000\r\n",
    "l = 0\r\n",
    "r = np.linspace(2e-9, 0.0, N, endpoint=False)\r\n",
    "hamiltonian = build_hamiltonian(r)"
   ],
   "outputs": [],
   "metadata": {}
  },
  {
   "cell_type": "code",
   "execution_count": null,
   "source": [
    "\"\"\" solve eigenproblem \"\"\"\r\n",
    "number_of_eigenvalues = 30\r\n",
    "eigenvalues, eigenvectors = eigs(hamiltonian, k=number_of_eigenvalues, which='SM')"
   ],
   "outputs": [],
   "metadata": {}
  },
  {
   "cell_type": "code",
   "execution_count": null,
   "source": [
    "\"\"\" sort eigenvalue and eigenvectors \"\"\"\r\n",
    "eigenvectors = np.array([x for _, x in sorted(zip(eigenvalues, eigenvectors.T), key=lambda pair: pair[0])])\r\n",
    "eigenvalues = np.sort(eigenvalues)"
   ],
   "outputs": [],
   "metadata": {}
  },
  {
   "cell_type": "code",
   "execution_count": null,
   "source": [
    "\"\"\" compute probability density for each eigenvector \"\"\"\r\n",
    "densities = [np.absolute(eigenvectors[i, :])**2 for i in range(len(eigenvalues))]"
   ],
   "outputs": [],
   "metadata": {}
  },
  {
   "cell_type": "code",
   "execution_count": null,
   "source": [
    "\"\"\" plot results \"\"\"\r\n",
    "plot(r, densities, eigenvalues)"
   ],
   "outputs": [],
   "metadata": {}
  }
 ],
 "metadata": {
  "kernelspec": {
   "name": "python3",
   "display_name": "Python 3.8.10 64-bit"
  },
  "language_info": {
   "codemirror_mode": {
    "name": "ipython",
    "version": 3
   },
   "file_extension": ".py",
   "mimetype": "text/x-python",
   "name": "python",
   "nbconvert_exporter": "python",
   "pygments_lexer": "ipython3",
   "version": "3.8.10"
  },
  "interpreter": {
   "hash": "965397c5e0a383645281018943dbc1bc4d4522af0dbc1ebbaeff6f5a6e63d7b4"
  }
 },
 "nbformat": 4,
 "nbformat_minor": 5
}